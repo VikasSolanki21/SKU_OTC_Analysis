{
 "cells": [
  {
   "cell_type": "code",
   "execution_count": 5,
   "metadata": {
    "collapsed": true
   },
   "outputs": [],
   "source": [
    "import pandas as pd\n",
    "import numpy as np\n",
    "import matplotlib.pyplot as plt"
   ]
  },
  {
   "cell_type": "code",
   "execution_count": 35,
   "metadata": {},
   "outputs": [
    {
     "name": "stdout",
     "output_type": "stream",
     "text": [
      "630\n"
     ]
    },
    {
     "data": {
      "image/png": "[encoded data removed]",
      "text/plain": [
       "<matplotlib.figure.Figure at 0x1aceac160>"
      ]
     },
     "metadata": {},
     "output_type": "display_data"
    }
   ],
   "source": [
    "import matplotlib.pyplot as plt\n",
    "from collections import defaultdict\n",
    "from datetime import datetime\n",
    "\n",
    "otc_count_x = 3\n",
    "rx_count_y = 2\n",
    "days_z = 30\n",
    "\n",
    "# Read SKU and OTCs\n",
    "f = open('rx_otc.csv', 'r')\n",
    "skus = {}\n",
    "for line in f:\n",
    "    line = line.strip().replace('\"', '').split(',')\n",
    "    skus[line[0]] = line[1]\n",
    "\n",
    "f = open('orders.csv', 'r')\n",
    "\n",
    "user_orders = defaultdict(lambda: {})\n",
    "order_user = {}\n",
    "\n",
    "for line in f:\n",
    "    line = line.replace('\"', '').strip().split(',')\n",
    "    if len(line) != 3:\n",
    "        continue\n",
    "    user_orders[line[0]][line[1]] = {'date': line[2], 'items': []}\n",
    "    order_user[line[1]] = line[0]\n",
    "\n",
    "f = open('data.csv', 'r')\n",
    "\n",
    "for line in f:\n",
    "    line = line.replace('\"', '').strip().split(',')\n",
    "    user_id = order_user.get(line[0])\n",
    "    if user_id:\n",
    "        user_orders[user_id][line[0]]['items'].append(line[1])\n",
    "\n",
    "\n",
    "buckets = [0] + [2*(x+1) for x in range(10)] + [999999]\n",
    "dx = [0 for _ in range(len(buckets))]\n",
    "dx2 = [0 for _ in range(len(buckets))]\n",
    "\n",
    "sku_freqs = defaultdict(lambda: 0)\n",
    "\n",
    "for k, v in user_orders.items():\n",
    "    tot_count = 0 #RX\n",
    "    tot_count2 = 0 #OTC\n",
    "    ordered_sets = defaultdict(lambda: 0)\n",
    "    for k2, v2 in v.items():\n",
    "        try:\n",
    "            order_date = datetime.strptime(v2['date'], '%Y-%m-%d %H:%M:%S.%f').date()\n",
    "        except:\n",
    "            order_date = datetime.strptime(v2['date'], '%Y-%m-%d %H:%M:%S').date()\n",
    "        #if (order_date.year == 2017) or (order_date.year == 2016):\n",
    "        for i in v2['items']:\n",
    "            ordered_sets[i] += 1\n",
    "            print \n",
    "\n",
    "    for i, v in ordered_sets.items():\n",
    "        if skus.get(i) == \"TRUE\":\n",
    "            tot_count +=1\n",
    "        else:\n",
    "            if v>1:\n",
    "                sku_freqs[i] += 1\n",
    "\n",
    "    # if tot_count:\n",
    "    #     for b in buckets:\n",
    "    #         if tot_count <= b:\n",
    "    #             dx[buckets.index(b)] += 1\n",
    "\n",
    "    # if tot_count2:\n",
    "    #     for b in buckets:\n",
    "    #         if tot_count2 <= b:\n",
    "    #             dx2[buckets.index(b)] += 1\n",
    "\n",
    "for_sort = []\n",
    "for k, v in sku_freqs.items():\n",
    "    if v>100:\n",
    "        for_sort.append((k, v))\n",
    "\n",
    "for_sort.sort(key=lambda x: x[1], reverse=True)\n",
    "\n",
    "#for i in for_sort:\n",
    "    #print(i)\n",
    "\n",
    "print(len(for_sort))\n",
    "\n",
    "plt.plot([x[1] for x in for_sort])\n",
    "plt.show()"
   ]
  },
  {
   "cell_type": "code",
   "execution_count": 36,
   "metadata": {
    "collapsed": true
   },
   "outputs": [],
   "source": [
    "top_skus = [x[0] for x in for_sort][:20]"
   ]
  },
  {
   "cell_type": "code",
   "execution_count": 48,
   "metadata": {
    "collapsed": true
   },
   "outputs": [],
   "source": [
    "data = pd.read_csv('data.csv',header=None)"
   ]
  },
  {
   "cell_type": "code",
   "execution_count": 51,
   "metadata": {
    "collapsed": true
   },
   "outputs": [],
   "source": [
    "data.columns = ['orderid','itemid','quantity']"
   ]
  },
  {
   "cell_type": "code",
   "execution_count": 53,
   "metadata": {},
   "outputs": [
    {
     "data": {
      "text/html": [
       "<div>\n",
       "<style>\n",
       "    .dataframe thead tr:only-child th {\n",
       "        text-align: right;\n",
       "    }\n",
       "\n",
       "    .dataframe thead th {\n",
       "        text-align: left;\n",
       "    }\n",
       "\n",
       "    .dataframe tbody tr th {\n",
       "        vertical-align: top;\n",
       "    }\n",
       "</style>\n",
       "<table border=\"1\" class=\"dataframe\">\n",
       "  <thead>\n",
       "    <tr style=\"text-align: right;\">\n",
       "      <th></th>\n",
       "      <th>orderid</th>\n",
       "      <th>itemid</th>\n",
       "      <th>quantity</th>\n",
       "      <th>userid</th>\n",
       "      <th>date</th>\n",
       "    </tr>\n",
       "  </thead>\n",
       "  <tbody>\n",
       "    <tr>\n",
       "      <th>80914</th>\n",
       "      <td>PO36216107298018</td>\n",
       "      <td>140934</td>\n",
       "      <td>2</td>\n",
       "      <td>mvkarvasant@yahoo.com</td>\n",
       "      <td>2016-12-28</td>\n",
       "    </tr>\n",
       "    <tr>\n",
       "      <th>80915</th>\n",
       "      <td>PO31716177539063</td>\n",
       "      <td>140934</td>\n",
       "      <td>3</td>\n",
       "      <td>sgn_sulochi@yahoo.com</td>\n",
       "      <td>2016-11-13</td>\n",
       "    </tr>\n",
       "    <tr>\n",
       "      <th>80916</th>\n",
       "      <td>PO155175281362</td>\n",
       "      <td>140934</td>\n",
       "      <td>1</td>\n",
       "      <td>7c741250-9c14-43bf-9b56-92ddff65138c</td>\n",
       "      <td>2017-06-05</td>\n",
       "    </tr>\n",
       "    <tr>\n",
       "      <th>80917</th>\n",
       "      <td>PO15517553343689</td>\n",
       "      <td>140934</td>\n",
       "      <td>1</td>\n",
       "      <td>f6d06789-32e7-439e-b758-6285b5959a87</td>\n",
       "      <td>2017-06-05</td>\n",
       "    </tr>\n",
       "    <tr>\n",
       "      <th>80918</th>\n",
       "      <td>PO3171618000104</td>\n",
       "      <td>140934</td>\n",
       "      <td>3</td>\n",
       "      <td>gupta03@gmail.com</td>\n",
       "      <td>2016-11-13</td>\n",
       "    </tr>\n",
       "    <tr>\n",
       "      <th>80919</th>\n",
       "      <td>PO341646752-681</td>\n",
       "      <td>140934</td>\n",
       "      <td>10</td>\n",
       "      <td>vamsi7164@gmail.com</td>\n",
       "      <td>2016-02-04</td>\n",
       "    </tr>\n",
       "    <tr>\n",
       "      <th>80920</th>\n",
       "      <td>PO491664609-172</td>\n",
       "      <td>140934</td>\n",
       "      <td>20</td>\n",
       "      <td>manish_goyal1984@yahoo.co.in</td>\n",
       "      <td>2016-02-19</td>\n",
       "    </tr>\n",
       "    <tr>\n",
       "      <th>80921</th>\n",
       "      <td>PO15517547583111</td>\n",
       "      <td>140934</td>\n",
       "      <td>1</td>\n",
       "      <td>mcgoel46@gmail.com</td>\n",
       "      <td>2017-06-05</td>\n",
       "    </tr>\n",
       "    <tr>\n",
       "      <th>80922</th>\n",
       "      <td>PO15517541354643</td>\n",
       "      <td>140934</td>\n",
       "      <td>1</td>\n",
       "      <td>983f278a-cfd8-4f44-b9ac-2da0aa5d54f7</td>\n",
       "      <td>2017-06-05</td>\n",
       "    </tr>\n",
       "    <tr>\n",
       "      <th>80923</th>\n",
       "      <td>PO15617293827955</td>\n",
       "      <td>140934</td>\n",
       "      <td>3</td>\n",
       "      <td>deepakcwa3@gmail.com</td>\n",
       "      <td>2017-06-06</td>\n",
       "    </tr>\n",
       "    <tr>\n",
       "      <th>80924</th>\n",
       "      <td>PO34116194402794</td>\n",
       "      <td>140934</td>\n",
       "      <td>3</td>\n",
       "      <td>agarwalsumit812@gmail.com</td>\n",
       "      <td>2016-12-07</td>\n",
       "    </tr>\n",
       "    <tr>\n",
       "      <th>80925</th>\n",
       "      <td>PO341644737-628</td>\n",
       "      <td>140934</td>\n",
       "      <td>10</td>\n",
       "      <td>tapansaha50@gmail.com</td>\n",
       "      <td>2016-02-04</td>\n",
       "    </tr>\n",
       "    <tr>\n",
       "      <th>80926</th>\n",
       "      <td>PO31616324026738</td>\n",
       "      <td>140934</td>\n",
       "      <td>3</td>\n",
       "      <td>gupta03@gmail.com</td>\n",
       "      <td>2016-11-12</td>\n",
       "    </tr>\n",
       "    <tr>\n",
       "      <th>80927</th>\n",
       "      <td>PO3161631310109</td>\n",
       "      <td>140934</td>\n",
       "      <td>1</td>\n",
       "      <td>bangianitika@gmail.com</td>\n",
       "      <td>2016-11-12</td>\n",
       "    </tr>\n",
       "    <tr>\n",
       "      <th>80928</th>\n",
       "      <td>PO3417469366039</td>\n",
       "      <td>140934</td>\n",
       "      <td>1</td>\n",
       "      <td>jainashwani03@gmail.com</td>\n",
       "      <td>2017-02-04</td>\n",
       "    </tr>\n",
       "    <tr>\n",
       "      <th>80929</th>\n",
       "      <td>PO3617360208079</td>\n",
       "      <td>140934</td>\n",
       "      <td>1</td>\n",
       "      <td>ae3f4ed4-a79e-4ee0-838e-96541723c4eb</td>\n",
       "      <td>2017-02-06</td>\n",
       "    </tr>\n",
       "    <tr>\n",
       "      <th>80930</th>\n",
       "      <td>PO317274653414</td>\n",
       "      <td>140934</td>\n",
       "      <td>1</td>\n",
       "      <td>nkdawar@gmail.com</td>\n",
       "      <td>2017-01-04</td>\n",
       "    </tr>\n",
       "    <tr>\n",
       "      <th>80931</th>\n",
       "      <td>PO341646460-639</td>\n",
       "      <td>140934</td>\n",
       "      <td>10</td>\n",
       "      <td>vamsi7164@gmail.com</td>\n",
       "      <td>2016-02-04</td>\n",
       "    </tr>\n",
       "    <tr>\n",
       "      <th>80932</th>\n",
       "      <td>PO2011626370-115</td>\n",
       "      <td>140934</td>\n",
       "      <td>1</td>\n",
       "      <td>oberoiarchit@gmail.com</td>\n",
       "      <td>2016-07-20</td>\n",
       "    </tr>\n",
       "    <tr>\n",
       "      <th>80933</th>\n",
       "      <td>PO1551646769-1850</td>\n",
       "      <td>140934</td>\n",
       "      <td>1</td>\n",
       "      <td>rukmanisuresh55@gmail.com</td>\n",
       "      <td>2016-06-04</td>\n",
       "    </tr>\n",
       "    <tr>\n",
       "      <th>80934</th>\n",
       "      <td>PO3291518206-218</td>\n",
       "      <td>140934</td>\n",
       "      <td>1</td>\n",
       "      <td>I.rarsh@gmail.com</td>\n",
       "      <td>2015-11-26</td>\n",
       "    </tr>\n",
       "    <tr>\n",
       "      <th>80935</th>\n",
       "      <td>PO2017280709154</td>\n",
       "      <td>140934</td>\n",
       "      <td>1</td>\n",
       "      <td>rpb11a@yahoo.co.in</td>\n",
       "      <td>2017-01-21</td>\n",
       "    </tr>\n",
       "    <tr>\n",
       "      <th>80936</th>\n",
       "      <td>PO1571652235-339</td>\n",
       "      <td>140934</td>\n",
       "      <td>2</td>\n",
       "      <td>pradeepchaturvedi@outlook.com</td>\n",
       "      <td>2016-06-06</td>\n",
       "    </tr>\n",
       "    <tr>\n",
       "      <th>80937</th>\n",
       "      <td>PO491656905-118</td>\n",
       "      <td>140934</td>\n",
       "      <td>30</td>\n",
       "      <td>prahalghai@gmail.com</td>\n",
       "      <td>2016-02-19</td>\n",
       "    </tr>\n",
       "    <tr>\n",
       "      <th>80938</th>\n",
       "      <td>PO4817559401031</td>\n",
       "      <td>140934</td>\n",
       "      <td>1</td>\n",
       "      <td>31f7b3cd-e38a-46c7-b2fe-738e180d644b</td>\n",
       "      <td>2017-02-18</td>\n",
       "    </tr>\n",
       "    <tr>\n",
       "      <th>80939</th>\n",
       "      <td>PO2011620370-142</td>\n",
       "      <td>140934</td>\n",
       "      <td>2</td>\n",
       "      <td>rajeevsriv@rediffmail.com</td>\n",
       "      <td>2016-07-20</td>\n",
       "    </tr>\n",
       "    <tr>\n",
       "      <th>80940</th>\n",
       "      <td>PO14717202338880</td>\n",
       "      <td>140934</td>\n",
       "      <td>4</td>\n",
       "      <td>sjsinghal@yahoo.com</td>\n",
       "      <td>2017-05-28</td>\n",
       "    </tr>\n",
       "    <tr>\n",
       "      <th>80941</th>\n",
       "      <td>PO3617358497578</td>\n",
       "      <td>140934</td>\n",
       "      <td>1</td>\n",
       "      <td>nehasn242@gmail.com</td>\n",
       "      <td>2017-02-06</td>\n",
       "    </tr>\n",
       "    <tr>\n",
       "      <th>80942</th>\n",
       "      <td>PO2011667896-273</td>\n",
       "      <td>140934</td>\n",
       "      <td>1</td>\n",
       "      <td>joshita.varma@gmail.com</td>\n",
       "      <td>2016-07-21</td>\n",
       "    </tr>\n",
       "    <tr>\n",
       "      <th>80943</th>\n",
       "      <td>PO31716264622695</td>\n",
       "      <td>140934</td>\n",
       "      <td>1</td>\n",
       "      <td>jammy1980@gmail.com</td>\n",
       "      <td>2016-11-13</td>\n",
       "    </tr>\n",
       "    <tr>\n",
       "      <th>...</th>\n",
       "      <td>...</td>\n",
       "      <td>...</td>\n",
       "      <td>...</td>\n",
       "      <td>...</td>\n",
       "      <td>...</td>\n",
       "    </tr>\n",
       "    <tr>\n",
       "      <th>84984</th>\n",
       "      <td>PO3081610051832</td>\n",
       "      <td>140934</td>\n",
       "      <td>1</td>\n",
       "      <td>monika.chadha84@gmail.com</td>\n",
       "      <td>2016-11-04</td>\n",
       "    </tr>\n",
       "    <tr>\n",
       "      <th>84985</th>\n",
       "      <td>PO3081553842-105</td>\n",
       "      <td>140934</td>\n",
       "      <td>1</td>\n",
       "      <td>aatreoyash@gmail.com</td>\n",
       "      <td>2015-11-05</td>\n",
       "    </tr>\n",
       "    <tr>\n",
       "      <th>84986</th>\n",
       "      <td>PO27616256435867</td>\n",
       "      <td>140934</td>\n",
       "      <td>1</td>\n",
       "      <td>tribhuwan.tiwari254@gmail.com</td>\n",
       "      <td>2016-10-03</td>\n",
       "    </tr>\n",
       "    <tr>\n",
       "      <th>84987</th>\n",
       "      <td>PO4917607375585</td>\n",
       "      <td>140934</td>\n",
       "      <td>2</td>\n",
       "      <td>us.harish@gmail.com</td>\n",
       "      <td>2017-02-19</td>\n",
       "    </tr>\n",
       "    <tr>\n",
       "      <th>84988</th>\n",
       "      <td>PO14041850-24823</td>\n",
       "      <td>140934</td>\n",
       "      <td>1</td>\n",
       "      <td>chococollection@gmail.com</td>\n",
       "      <td>2014-02-10</td>\n",
       "    </tr>\n",
       "    <tr>\n",
       "      <th>84989</th>\n",
       "      <td>PO31416469758243</td>\n",
       "      <td>140934</td>\n",
       "      <td>2</td>\n",
       "      <td>sharmanareshkumar.001@gmail.com</td>\n",
       "      <td>2016-11-10</td>\n",
       "    </tr>\n",
       "    <tr>\n",
       "      <th>84990</th>\n",
       "      <td>PO2031630904-1080</td>\n",
       "      <td>140934</td>\n",
       "      <td>2</td>\n",
       "      <td>atulshukla123@gmail.com</td>\n",
       "      <td>2016-07-22</td>\n",
       "    </tr>\n",
       "    <tr>\n",
       "      <th>84991</th>\n",
       "      <td>PO4917677827898</td>\n",
       "      <td>140934</td>\n",
       "      <td>1</td>\n",
       "      <td>drtvisha@gmail.com</td>\n",
       "      <td>2017-02-20</td>\n",
       "    </tr>\n",
       "    <tr>\n",
       "      <th>84992</th>\n",
       "      <td>PO9917570283926</td>\n",
       "      <td>140934</td>\n",
       "      <td>1</td>\n",
       "      <td>604a0a9c-e8ee-4767-8b3c-26129c9e8e8a</td>\n",
       "      <td>2017-04-10</td>\n",
       "    </tr>\n",
       "    <tr>\n",
       "      <th>84993</th>\n",
       "      <td>PO21510834399-206</td>\n",
       "      <td>140934</td>\n",
       "      <td>1</td>\n",
       "      <td>annshul1@rediffmail.com</td>\n",
       "      <td>2015-04-26</td>\n",
       "    </tr>\n",
       "    <tr>\n",
       "      <th>84994</th>\n",
       "      <td>PO11524740985-342</td>\n",
       "      <td>140934</td>\n",
       "      <td>1</td>\n",
       "      <td>ds03628@gmail.com</td>\n",
       "      <td>2015-09-04</td>\n",
       "    </tr>\n",
       "    <tr>\n",
       "      <th>84995</th>\n",
       "      <td>PO28816181866231</td>\n",
       "      <td>140934</td>\n",
       "      <td>2</td>\n",
       "      <td>avisheksam@gmail.com</td>\n",
       "      <td>2016-10-15</td>\n",
       "    </tr>\n",
       "    <tr>\n",
       "      <th>84996</th>\n",
       "      <td>PO7917594482487</td>\n",
       "      <td>140934</td>\n",
       "      <td>2</td>\n",
       "      <td>4e1f1501-8655-43e6-a85f-bf9f186c990a</td>\n",
       "      <td>2017-03-21</td>\n",
       "    </tr>\n",
       "    <tr>\n",
       "      <th>84997</th>\n",
       "      <td>PO28616352536817</td>\n",
       "      <td>140934</td>\n",
       "      <td>2</td>\n",
       "      <td>rajeshwar25195@gmail.com</td>\n",
       "      <td>2016-10-13</td>\n",
       "    </tr>\n",
       "    <tr>\n",
       "      <th>84998</th>\n",
       "      <td>PO11217117495250</td>\n",
       "      <td>140934</td>\n",
       "      <td>2</td>\n",
       "      <td>viney.bagla@tatatel.co.in</td>\n",
       "      <td>2017-04-23</td>\n",
       "    </tr>\n",
       "    <tr>\n",
       "      <th>84999</th>\n",
       "      <td>PO5017558766172</td>\n",
       "      <td>140934</td>\n",
       "      <td>1</td>\n",
       "      <td>naresharma1972@gmail.com</td>\n",
       "      <td>2017-02-20</td>\n",
       "    </tr>\n",
       "    <tr>\n",
       "      <th>85000</th>\n",
       "      <td>PO2031648271-112</td>\n",
       "      <td>140934</td>\n",
       "      <td>1</td>\n",
       "      <td>skbtb19@gmail.com</td>\n",
       "      <td>2016-07-22</td>\n",
       "    </tr>\n",
       "    <tr>\n",
       "      <th>85001</th>\n",
       "      <td>PO7917425049470</td>\n",
       "      <td>140934</td>\n",
       "      <td>3</td>\n",
       "      <td>nikhiltonk@gmail.com</td>\n",
       "      <td>2017-03-21</td>\n",
       "    </tr>\n",
       "    <tr>\n",
       "      <th>85002</th>\n",
       "      <td>PO13317359121679</td>\n",
       "      <td>140934</td>\n",
       "      <td>1</td>\n",
       "      <td>97add8fb-cad5-4af6-8baa-1ef9ed868f05</td>\n",
       "      <td>2017-05-14</td>\n",
       "    </tr>\n",
       "    <tr>\n",
       "      <th>85003</th>\n",
       "      <td>PO891730393379</td>\n",
       "      <td>140934</td>\n",
       "      <td>4</td>\n",
       "      <td>pkscseb@gmail.com</td>\n",
       "      <td>2017-03-31</td>\n",
       "    </tr>\n",
       "    <tr>\n",
       "      <th>85004</th>\n",
       "      <td>PO1117497435789</td>\n",
       "      <td>140934</td>\n",
       "      <td>1</td>\n",
       "      <td>prachi.gupta28140@gmail.com</td>\n",
       "      <td>2017-01-12</td>\n",
       "    </tr>\n",
       "    <tr>\n",
       "      <th>85005</th>\n",
       "      <td>PO25116504936379</td>\n",
       "      <td>140934</td>\n",
       "      <td>2</td>\n",
       "      <td>karnwalrishi@gmail.com</td>\n",
       "      <td>2016-09-08</td>\n",
       "    </tr>\n",
       "    <tr>\n",
       "      <th>85006</th>\n",
       "      <td>PO5617296913944</td>\n",
       "      <td>140934</td>\n",
       "      <td>1</td>\n",
       "      <td>ziavfx@gmail.com</td>\n",
       "      <td>2017-02-26</td>\n",
       "    </tr>\n",
       "    <tr>\n",
       "      <th>85007</th>\n",
       "      <td>PO2417268448298</td>\n",
       "      <td>140934</td>\n",
       "      <td>1</td>\n",
       "      <td>anilahuja2626@gmail.com</td>\n",
       "      <td>2017-01-25</td>\n",
       "    </tr>\n",
       "    <tr>\n",
       "      <th>85008</th>\n",
       "      <td>PO4917657855497</td>\n",
       "      <td>140934</td>\n",
       "      <td>1</td>\n",
       "      <td>f62e11d2-7191-43d9-bb9e-9a72b3e3f5eb</td>\n",
       "      <td>2017-02-19</td>\n",
       "    </tr>\n",
       "    <tr>\n",
       "      <th>85009</th>\n",
       "      <td>PO13354584-201</td>\n",
       "      <td>140934</td>\n",
       "      <td>3</td>\n",
       "      <td>madhur23madan@gmail.com</td>\n",
       "      <td>2013-12-20</td>\n",
       "    </tr>\n",
       "    <tr>\n",
       "      <th>85010</th>\n",
       "      <td>PO8017168339597</td>\n",
       "      <td>140934</td>\n",
       "      <td>1</td>\n",
       "      <td>19c30b7d-daf3-4c81-bc9a-243bb96e2ec5</td>\n",
       "      <td>2017-03-22</td>\n",
       "    </tr>\n",
       "    <tr>\n",
       "      <th>85011</th>\n",
       "      <td>PO561740389671</td>\n",
       "      <td>140934</td>\n",
       "      <td>1</td>\n",
       "      <td>somgupta15@gmail.com</td>\n",
       "      <td>2017-02-26</td>\n",
       "    </tr>\n",
       "    <tr>\n",
       "      <th>85012</th>\n",
       "      <td>PO4917628683650</td>\n",
       "      <td>140934</td>\n",
       "      <td>2</td>\n",
       "      <td>lokesh.agarwal@gmail.com</td>\n",
       "      <td>2017-02-19</td>\n",
       "    </tr>\n",
       "    <tr>\n",
       "      <th>85013</th>\n",
       "      <td>PO14025858-3579</td>\n",
       "      <td>140934</td>\n",
       "      <td>4</td>\n",
       "      <td>sumeet.manit@gmail.com</td>\n",
       "      <td>2014-01-25</td>\n",
       "    </tr>\n",
       "  </tbody>\n",
       "</table>\n",
       "<p>4100 rows × 5 columns</p>\n",
       "</div>"
      ],
      "text/plain": [
       "                 orderid  itemid  quantity  \\\n",
       "80914   PO36216107298018  140934         2   \n",
       "80915   PO31716177539063  140934         3   \n",
       "80916     PO155175281362  140934         1   \n",
       "80917   PO15517553343689  140934         1   \n",
       "80918    PO3171618000104  140934         3   \n",
       "80919    PO341646752-681  140934        10   \n",
       "80920    PO491664609-172  140934        20   \n",
       "80921   PO15517547583111  140934         1   \n",
       "80922   PO15517541354643  140934         1   \n",
       "80923   PO15617293827955  140934         3   \n",
       "80924   PO34116194402794  140934         3   \n",
       "80925    PO341644737-628  140934        10   \n",
       "80926   PO31616324026738  140934         3   \n",
       "80927    PO3161631310109  140934         1   \n",
       "80928    PO3417469366039  140934         1   \n",
       "80929    PO3617360208079  140934         1   \n",
       "80930     PO317274653414  140934         1   \n",
       "80931    PO341646460-639  140934        10   \n",
       "80932   PO2011626370-115  140934         1   \n",
       "80933  PO1551646769-1850  140934         1   \n",
       "80934   PO3291518206-218  140934         1   \n",
       "80935    PO2017280709154  140934         1   \n",
       "80936   PO1571652235-339  140934         2   \n",
       "80937    PO491656905-118  140934        30   \n",
       "80938    PO4817559401031  140934         1   \n",
       "80939   PO2011620370-142  140934         2   \n",
       "80940   PO14717202338880  140934         4   \n",
       "80941    PO3617358497578  140934         1   \n",
       "80942   PO2011667896-273  140934         1   \n",
       "80943   PO31716264622695  140934         1   \n",
       "...                  ...     ...       ...   \n",
       "84984    PO3081610051832  140934         1   \n",
       "84985   PO3081553842-105  140934         1   \n",
       "84986   PO27616256435867  140934         1   \n",
       "84987    PO4917607375585  140934         2   \n",
       "84988   PO14041850-24823  140934         1   \n",
       "84989   PO31416469758243  140934         2   \n",
       "84990  PO2031630904-1080  140934         2   \n",
       "84991    PO4917677827898  140934         1   \n",
       "84992    PO9917570283926  140934         1   \n",
       "84993  PO21510834399-206  140934         1   \n",
       "84994  PO11524740985-342  140934         1   \n",
       "84995   PO28816181866231  140934         2   \n",
       "84996    PO7917594482487  140934         2   \n",
       "84997   PO28616352536817  140934         2   \n",
       "84998   PO11217117495250  140934         2   \n",
       "84999    PO5017558766172  140934         1   \n",
       "85000   PO2031648271-112  140934         1   \n",
       "85001    PO7917425049470  140934         3   \n",
       "85002   PO13317359121679  140934         1   \n",
       "85003     PO891730393379  140934         4   \n",
       "85004    PO1117497435789  140934         1   \n",
       "85005   PO25116504936379  140934         2   \n",
       "85006    PO5617296913944  140934         1   \n",
       "85007    PO2417268448298  140934         1   \n",
       "85008    PO4917657855497  140934         1   \n",
       "85009     PO13354584-201  140934         3   \n",
       "85010    PO8017168339597  140934         1   \n",
       "85011     PO561740389671  140934         1   \n",
       "85012    PO4917628683650  140934         2   \n",
       "85013    PO14025858-3579  140934         4   \n",
       "\n",
       "                                     userid       date  \n",
       "80914                 mvkarvasant@yahoo.com 2016-12-28  \n",
       "80915                 sgn_sulochi@yahoo.com 2016-11-13  \n",
       "80916  7c741250-9c14-43bf-9b56-92ddff65138c 2017-06-05  \n",
       "80917  f6d06789-32e7-439e-b758-6285b5959a87 2017-06-05  \n",
       "80918                     gupta03@gmail.com 2016-11-13  \n",
       "80919                   vamsi7164@gmail.com 2016-02-04  \n",
       "80920          manish_goyal1984@yahoo.co.in 2016-02-19  \n",
       "80921                    mcgoel46@gmail.com 2017-06-05  \n",
       "80922  983f278a-cfd8-4f44-b9ac-2da0aa5d54f7 2017-06-05  \n",
       "80923                  deepakcwa3@gmail.com 2017-06-06  \n",
       "80924             agarwalsumit812@gmail.com 2016-12-07  \n",
       "80925                 tapansaha50@gmail.com 2016-02-04  \n",
       "80926                     gupta03@gmail.com 2016-11-12  \n",
       "80927                bangianitika@gmail.com 2016-11-12  \n",
       "80928               jainashwani03@gmail.com 2017-02-04  \n",
       "80929  ae3f4ed4-a79e-4ee0-838e-96541723c4eb 2017-02-06  \n",
       "80930                     nkdawar@gmail.com 2017-01-04  \n",
       "80931                   vamsi7164@gmail.com 2016-02-04  \n",
       "80932                oberoiarchit@gmail.com 2016-07-20  \n",
       "80933             rukmanisuresh55@gmail.com 2016-06-04  \n",
       "80934                     I.rarsh@gmail.com 2015-11-26  \n",
       "80935                    rpb11a@yahoo.co.in 2017-01-21  \n",
       "80936         pradeepchaturvedi@outlook.com 2016-06-06  \n",
       "80937                  prahalghai@gmail.com 2016-02-19  \n",
       "80938  31f7b3cd-e38a-46c7-b2fe-738e180d644b 2017-02-18  \n",
       "80939             rajeevsriv@rediffmail.com 2016-07-20  \n",
       "80940                   sjsinghal@yahoo.com 2017-05-28  \n",
       "80941                   nehasn242@gmail.com 2017-02-06  \n",
       "80942               joshita.varma@gmail.com 2016-07-21  \n",
       "80943                   jammy1980@gmail.com 2016-11-13  \n",
       "...                                     ...        ...  \n",
       "84984             monika.chadha84@gmail.com 2016-11-04  \n",
       "84985                  aatreoyash@gmail.com 2015-11-05  \n",
       "84986         tribhuwan.tiwari254@gmail.com 2016-10-03  \n",
       "84987                   us.harish@gmail.com 2017-02-19  \n",
       "84988             chococollection@gmail.com 2014-02-10  \n",
       "84989       sharmanareshkumar.001@gmail.com 2016-11-10  \n",
       "84990               atulshukla123@gmail.com 2016-07-22  \n",
       "84991                    drtvisha@gmail.com 2017-02-20  \n",
       "84992  604a0a9c-e8ee-4767-8b3c-26129c9e8e8a 2017-04-10  \n",
       "84993               annshul1@rediffmail.com 2015-04-26  \n",
       "84994                     ds03628@gmail.com 2015-09-04  \n",
       "84995                  avisheksam@gmail.com 2016-10-15  \n",
       "84996  4e1f1501-8655-43e6-a85f-bf9f186c990a 2017-03-21  \n",
       "84997              rajeshwar25195@gmail.com 2016-10-13  \n",
       "84998             viney.bagla@tatatel.co.in 2017-04-23  \n",
       "84999              naresharma1972@gmail.com 2017-02-20  \n",
       "85000                     skbtb19@gmail.com 2016-07-22  \n",
       "85001                  nikhiltonk@gmail.com 2017-03-21  \n",
       "85002  97add8fb-cad5-4af6-8baa-1ef9ed868f05 2017-05-14  \n",
       "85003                     pkscseb@gmail.com 2017-03-31  \n",
       "85004           prachi.gupta28140@gmail.com 2017-01-12  \n",
       "85005                karnwalrishi@gmail.com 2016-09-08  \n",
       "85006                      ziavfx@gmail.com 2017-02-26  \n",
       "85007               anilahuja2626@gmail.com 2017-01-25  \n",
       "85008  f62e11d2-7191-43d9-bb9e-9a72b3e3f5eb 2017-02-19  \n",
       "85009               madhur23madan@gmail.com 2013-12-20  \n",
       "85010  19c30b7d-daf3-4c81-bc9a-243bb96e2ec5 2017-03-22  \n",
       "85011                  somgupta15@gmail.com 2017-02-26  \n",
       "85012              lokesh.agarwal@gmail.com 2017-02-19  \n",
       "85013                sumeet.manit@gmail.com 2014-01-25  \n",
       "\n",
       "[4100 rows x 5 columns]"
      ]
     },
     "execution_count": 53,
     "metadata": {},
     "output_type": "execute_result"
    }
   ],
   "source": [
    "df[df.itemid==140934]"
   ]
  },
  {
   "cell_type": "code",
   "execution_count": 37,
   "metadata": {
    "collapsed": true
   },
   "outputs": [],
   "source": [
    "df_is_otc = pd.read_csv('rx_otc.csv',header=None)\n",
    "df_is_otc.columns = ['item_id','is_otc']\n",
    "data = pd.read_csv('data.csv',header=None)\n",
    "data.columns = ['orderid','itemid','quantity']\n",
    "orders = pd.read_csv('orders.csv',header=None)\n",
    "orders.columns = ['userid','orderid','date']\n",
    "data=data.loc[data['itemid'].isin(top_skus)].reset_index(drop=True)\n",
    "df=pd.merge(data,orders,how='inner',on='orderid').sort_values(by='itemid',ascending=[True]).reset_index(drop=True)\n",
    "df.date = df.date.apply(lambda x:x.split(' ')[0])\n",
    "df['date'] =pd.to_datetime(df.date)"
   ]
  },
  {
   "cell_type": "code",
   "execution_count": 38,
   "metadata": {
    "collapsed": true
   },
   "outputs": [],
   "source": [
    "df=df[df.quantity!=0].reset_index(drop=True)"
   ]
  },
  {
   "cell_type": "code",
   "execution_count": 26,
   "metadata": {},
   "outputs": [
    {
     "data": {
      "text/html": [
       "<div>\n",
       "<style>\n",
       "    .dataframe thead tr:only-child th {\n",
       "        text-align: right;\n",
       "    }\n",
       "\n",
       "    .dataframe thead th {\n",
       "        text-align: left;\n",
       "    }\n",
       "\n",
       "    .dataframe tbody tr th {\n",
       "        vertical-align: top;\n",
       "    }\n",
       "</style>\n",
       "<table border=\"1\" class=\"dataframe\">\n",
       "  <thead>\n",
       "    <tr style=\"text-align: right;\">\n",
       "      <th></th>\n",
       "      <th>orderid</th>\n",
       "      <th>itemid</th>\n",
       "      <th>quantity</th>\n",
       "      <th>userid</th>\n",
       "      <th>date</th>\n",
       "    </tr>\n",
       "  </thead>\n",
       "  <tbody>\n",
       "  </tbody>\n",
       "</table>\n",
       "</div>"
      ],
      "text/plain": [
       "Empty DataFrame\n",
       "Columns: [orderid, itemid, quantity, userid, date]\n",
       "Index: []"
      ]
     },
     "execution_count": 26,
     "metadata": {},
     "output_type": "execute_result"
    }
   ],
   "source": [
    "df[df.itemid==51344]"
   ]
  },
  {
   "cell_type": "code",
   "execution_count": 67,
   "metadata": {},
   "outputs": [
    {
     "name": "stdout",
     "output_type": "stream",
     "text": [
      "123429\n"
     ]
    },
    {
     "data": {
      "image/png": "[encoded data removed]",
      "text/plain": [
       "<matplotlib.figure.Figure at 0x16d72b940>"
      ]
     },
     "metadata": {},
     "output_type": "display_data"
    },
    {
     "name": "stdout",
     "output_type": "stream",
     "text": [
      "126310\n"
     ]
    },
    {
     "data": {
      "image/png": "[encoded data removed]",
      "text/plain": [
       "<matplotlib.figure.Figure at 0x16d9dbf60>"
      ]
     },
     "metadata": {},
     "output_type": "display_data"
    },
    {
     "name": "stdout",
     "output_type": "stream",
     "text": [
      "140934\n"
     ]
    },
    {
     "data": {
      "image/png": "[encoded data removed]",
      "text/plain": [
       "<matplotlib.figure.Figure at 0x16d9db128>"
      ]
     },
     "metadata": {},
     "output_type": "display_data"
    },
    {
     "name": "stdout",
     "output_type": "stream",
     "text": [
      "173029\n"
     ]
    },
    {
     "data": {
      "image/png": "[encoded data removed]",
      "text/plain": [
       "<matplotlib.figure.Figure at 0x16dad9b38>"
      ]
     },
     "metadata": {},
     "output_type": "display_data"
    },
    {
     "name": "stdout",
     "output_type": "stream",
     "text": [
      "126729\n"
     ]
    },
    {
     "data": {
      "image/png": "[encoded data removed]",
      "text/plain": [
       "<matplotlib.figure.Figure at 0x16e540eb8>"
      ]
     },
     "metadata": {},
     "output_type": "display_data"
    },
    {
     "name": "stdout",
     "output_type": "stream",
     "text": [
      "161866\n"
     ]
    },
    {
     "data": {
      "image/png": "[encoded data removed]",
      "text/plain": [
       "<matplotlib.figure.Figure at 0x16e9dff98>"
      ]
     },
     "metadata": {},
     "output_type": "display_data"
    },
    {
     "name": "stdout",
     "output_type": "stream",
     "text": [
      "203430\n"
     ]
    },
    {
     "data": {
      "image/png": "[encoded data removed]",
      "text/plain": [
       "<matplotlib.figure.Figure at 0x16ee0f710>"
      ]
     },
     "metadata": {},
     "output_type": "display_data"
    },
    {
     "name": "stdout",
     "output_type": "stream",
     "text": [
      "40780\n"
     ]
    },
    {
     "data": {
      "image/png": "[encoded data removed]",
      "text/plain": [
       "<matplotlib.figure.Figure at 0x16f39ada0>"
      ]
     },
     "metadata": {},
     "output_type": "display_data"
    },
    {
     "name": "stdout",
     "output_type": "stream",
     "text": [
      "117725\n"
     ]
    },
    {
     "data": {
      "image/png": "[encoded data removed]",
      "text/plain": [
       "<matplotlib.figure.Figure at 0x16e9edbe0>"
      ]
     },
     "metadata": {},
     "output_type": "display_data"
    },
    {
     "name": "stdout",
     "output_type": "stream",
     "text": [
      "156977\n"
     ]
    },
    {
     "data": {
      "image/png": "[encoded data removed]",
      "text/plain": [
       "<matplotlib.figure.Figure at 0x16f764470>"
      ]
     },
     "metadata": {},
     "output_type": "display_data"
    },
    {
     "name": "stdout",
     "output_type": "stream",
     "text": [
      "304755\n"
     ]
    },
    {
     "data": {
      "image/png": "[encoded data removed]",
      "text/plain": [
       "<matplotlib.figure.Figure at 0x16f68e390>"
      ]
     },
     "metadata": {},
     "output_type": "display_data"
    },
    {
     "name": "stdout",
     "output_type": "stream",
     "text": [
      "123637\n"
     ]
    },
    {
     "data": {
      "image/png": "[encoded data removed]",
      "text/plain": [
       "<matplotlib.figure.Figure at 0x171424f98>"
      ]
     },
     "metadata": {},
     "output_type": "display_data"
    },
    {
     "name": "stdout",
     "output_type": "stream",
     "text": [
      "150422\n"
     ]
    },
    {
     "ename": "KeyboardInterrupt",
     "evalue": "",
     "output_type": "error",
     "traceback": [
      "\u001b[0;31m---------------------------------------------------------------------------\u001b[0m",
      "\u001b[0;31mKeyboardInterrupt\u001b[0m                         Traceback (most recent call last)",
      "\u001b[0;32m<ipython-input-67-443d90446711>\u001b[0m in \u001b[0;36m<module>\u001b[0;34m()\u001b[0m\n\u001b[1;32m      8\u001b[0m     \u001b[0;32mfor\u001b[0m \u001b[0muser\u001b[0m \u001b[0;32min\u001b[0m \u001b[0mlist\u001b[0m\u001b[0;34m(\u001b[0m\u001b[0mset\u001b[0m\u001b[0;34m(\u001b[0m\u001b[0mdf1\u001b[0m\u001b[0;34m.\u001b[0m\u001b[0muserid\u001b[0m\u001b[0;34m)\u001b[0m\u001b[0;34m)\u001b[0m\u001b[0;34m:\u001b[0m\u001b[0;34m\u001b[0m\u001b[0m\n\u001b[1;32m      9\u001b[0m         \u001b[0;31m#print (user)\u001b[0m\u001b[0;34m\u001b[0m\u001b[0;34m\u001b[0m\u001b[0m\n\u001b[0;32m---> 10\u001b[0;31m         \u001b[0mdf_user\u001b[0m \u001b[0;34m=\u001b[0m \u001b[0mdf1\u001b[0m\u001b[0;34m[\u001b[0m\u001b[0mdf1\u001b[0m\u001b[0;34m.\u001b[0m\u001b[0muserid\u001b[0m\u001b[0;34m==\u001b[0m\u001b[0muser\u001b[0m\u001b[0;34m]\u001b[0m\u001b[0;34m.\u001b[0m\u001b[0mdrop_duplicates\u001b[0m\u001b[0;34m(\u001b[0m\u001b[0;34m'date'\u001b[0m\u001b[0;34m,\u001b[0m\u001b[0;34m'first'\u001b[0m\u001b[0;34m)\u001b[0m\u001b[0;34m.\u001b[0m\u001b[0mreset_index\u001b[0m\u001b[0;34m(\u001b[0m\u001b[0mdrop\u001b[0m\u001b[0;34m=\u001b[0m\u001b[0;32mTrue\u001b[0m\u001b[0;34m)\u001b[0m\u001b[0;34m\u001b[0m\u001b[0m\n\u001b[0m\u001b[1;32m     11\u001b[0m         \u001b[0;32mfor\u001b[0m \u001b[0mj\u001b[0m \u001b[0;32min\u001b[0m \u001b[0mrange\u001b[0m\u001b[0;34m(\u001b[0m\u001b[0mlen\u001b[0m\u001b[0;34m(\u001b[0m\u001b[0mdf_user\u001b[0m\u001b[0;34m)\u001b[0m\u001b[0;34m-\u001b[0m\u001b[0;36m1\u001b[0m\u001b[0;34m)\u001b[0m\u001b[0;34m:\u001b[0m\u001b[0;34m\u001b[0m\u001b[0m\n\u001b[1;32m     12\u001b[0m \u001b[0;34m\u001b[0m\u001b[0m\n",
      "\u001b[0;32m/usr/local/lib/python3.6/site-packages/pandas/core/frame.py\u001b[0m in \u001b[0;36mreset_index\u001b[0;34m(self, level, drop, inplace, col_level, col_fill)\u001b[0m\n\u001b[1;32m   2984\u001b[0m             \u001b[0mnew_obj\u001b[0m \u001b[0;34m=\u001b[0m \u001b[0mself\u001b[0m\u001b[0;34m\u001b[0m\u001b[0m\n\u001b[1;32m   2985\u001b[0m         \u001b[0;32melse\u001b[0m\u001b[0;34m:\u001b[0m\u001b[0;34m\u001b[0m\u001b[0m\n\u001b[0;32m-> 2986\u001b[0;31m             \u001b[0mnew_obj\u001b[0m \u001b[0;34m=\u001b[0m \u001b[0mself\u001b[0m\u001b[0;34m.\u001b[0m\u001b[0mcopy\u001b[0m\u001b[0;34m(\u001b[0m\u001b[0;34m)\u001b[0m\u001b[0;34m\u001b[0m\u001b[0m\n\u001b[0m\u001b[1;32m   2987\u001b[0m \u001b[0;34m\u001b[0m\u001b[0m\n\u001b[1;32m   2988\u001b[0m         \u001b[0;32mdef\u001b[0m \u001b[0m_maybe_casted_values\u001b[0m\u001b[0;34m(\u001b[0m\u001b[0mindex\u001b[0m\u001b[0;34m,\u001b[0m \u001b[0mlabels\u001b[0m\u001b[0;34m=\u001b[0m\u001b[0;32mNone\u001b[0m\u001b[0;34m)\u001b[0m\u001b[0;34m:\u001b[0m\u001b[0;34m\u001b[0m\u001b[0m\n",
      "\u001b[0;32m/usr/local/lib/python3.6/site-packages/pandas/core/generic.py\u001b[0m in \u001b[0;36mcopy\u001b[0;34m(self, deep)\u001b[0m\n\u001b[1;32m   3319\u001b[0m         \u001b[0mcopy\u001b[0m \u001b[0;34m:\u001b[0m \u001b[0mtype\u001b[0m \u001b[0mof\u001b[0m \u001b[0mcaller\u001b[0m\u001b[0;34m\u001b[0m\u001b[0m\n\u001b[1;32m   3320\u001b[0m         \"\"\"\n\u001b[0;32m-> 3321\u001b[0;31m         \u001b[0mdata\u001b[0m \u001b[0;34m=\u001b[0m \u001b[0mself\u001b[0m\u001b[0;34m.\u001b[0m\u001b[0m_data\u001b[0m\u001b[0;34m.\u001b[0m\u001b[0mcopy\u001b[0m\u001b[0;34m(\u001b[0m\u001b[0mdeep\u001b[0m\u001b[0;34m=\u001b[0m\u001b[0mdeep\u001b[0m\u001b[0;34m)\u001b[0m\u001b[0;34m\u001b[0m\u001b[0m\n\u001b[0m\u001b[1;32m   3322\u001b[0m         \u001b[0;32mreturn\u001b[0m \u001b[0mself\u001b[0m\u001b[0;34m.\u001b[0m\u001b[0m_constructor\u001b[0m\u001b[0;34m(\u001b[0m\u001b[0mdata\u001b[0m\u001b[0;34m)\u001b[0m\u001b[0;34m.\u001b[0m\u001b[0m__finalize__\u001b[0m\u001b[0;34m(\u001b[0m\u001b[0mself\u001b[0m\u001b[0;34m)\u001b[0m\u001b[0;34m\u001b[0m\u001b[0m\n\u001b[1;32m   3323\u001b[0m \u001b[0;34m\u001b[0m\u001b[0m\n",
      "\u001b[0;32m/usr/local/lib/python3.6/site-packages/pandas/core/internals.py\u001b[0m in \u001b[0;36mcopy\u001b[0;34m(self, deep, mgr)\u001b[0m\n\u001b[1;32m   3434\u001b[0m             \u001b[0mnew_axes\u001b[0m \u001b[0;34m=\u001b[0m \u001b[0mlist\u001b[0m\u001b[0;34m(\u001b[0m\u001b[0mself\u001b[0m\u001b[0;34m.\u001b[0m\u001b[0maxes\u001b[0m\u001b[0;34m)\u001b[0m\u001b[0;34m\u001b[0m\u001b[0m\n\u001b[1;32m   3435\u001b[0m         return self.apply('copy', axes=new_axes, deep=deep,\n\u001b[0;32m-> 3436\u001b[0;31m                           do_integrity_check=False)\n\u001b[0m\u001b[1;32m   3437\u001b[0m \u001b[0;34m\u001b[0m\u001b[0m\n\u001b[1;32m   3438\u001b[0m     \u001b[0;32mdef\u001b[0m \u001b[0mas_matrix\u001b[0m\u001b[0;34m(\u001b[0m\u001b[0mself\u001b[0m\u001b[0;34m,\u001b[0m \u001b[0mitems\u001b[0m\u001b[0;34m=\u001b[0m\u001b[0;32mNone\u001b[0m\u001b[0;34m)\u001b[0m\u001b[0;34m:\u001b[0m\u001b[0;34m\u001b[0m\u001b[0m\n",
      "\u001b[0;32m/usr/local/lib/python3.6/site-packages/pandas/core/internals.py\u001b[0m in \u001b[0;36mapply\u001b[0;34m(self, f, axes, filter, do_integrity_check, consolidate, **kwargs)\u001b[0m\n\u001b[1;32m   3071\u001b[0m \u001b[0;34m\u001b[0m\u001b[0m\n\u001b[1;32m   3072\u001b[0m         aligned_args = dict((k, kwargs[k])\n\u001b[0;32m-> 3073\u001b[0;31m                             \u001b[0;32mfor\u001b[0m \u001b[0mk\u001b[0m \u001b[0;32min\u001b[0m \u001b[0malign_keys\u001b[0m\u001b[0;34m\u001b[0m\u001b[0m\n\u001b[0m\u001b[1;32m   3074\u001b[0m                             if hasattr(kwargs[k], 'reindex_axis'))\n\u001b[1;32m   3075\u001b[0m \u001b[0;34m\u001b[0m\u001b[0m\n",
      "\u001b[0;31mKeyboardInterrupt\u001b[0m: "
     ]
    }
   ],
   "source": [
    "d=dict()\n",
    "for i in list(set(df.itemid)):\n",
    "    print (i)\n",
    "    #import matplotlib.pyplot as plt\n",
    "    plt.clf()\n",
    "    df1 = df[df.itemid==i].sort_values(by='date').reset_index(drop=True)\n",
    "    dist = []\n",
    "    for user in list(set(df1.userid)):\n",
    "        #print (user)\n",
    "        df_user = df1[df1.userid==user].drop_duplicates('date','first').reset_index(drop=True)\n",
    "        for j in range(len(df_user)-1):\n",
    "            \n",
    "            \n",
    "            #print (df_user.orderid[j],df_user.quantity[j],df_user.date[j])\n",
    "            dist.append(((pd.Timedelta(df_user.date[j+1]-df_user.date[j]).total_seconds())/int(df_user.quantity[j]))/(3600*24))\n",
    "            #dist.append(((pd.Timedelta(df_user.date[j+1]-df_user.date[j]).total_seconds())/(3600*24)))\n",
    "            #print (df_user.quantity[j])\n",
    "            #print ((df_user.date[j+1]-df_user.date[j])/int(df_user.quantity[j]))\n",
    "    d[i]=dist    \n",
    "    plt.hist(dist, bins=a)\n",
    "    #fig = plt.figure()\n",
    "    \n",
    "    #fig.suptitle('Item ID - %s'%i, fontsize=20)\n",
    "    plt.xlabel('Duration in days')\n",
    "    plt.ylabel('Count')\n",
    "    plt.title('SKU -'+' '+skus['%s'%i])\n",
    "    plt.show()\n",
    "    #plt.savefig('top20_sku_dist/sku_%s.png'%i)"
   ]
  },
  {
   "cell_type": "code",
   "execution_count": 43,
   "metadata": {
    "collapsed": true
   },
   "outputs": [],
   "source": [
    "a = []\n",
    "\n",
    "for i in range(29):\n",
    "    a.append(i*(0.25))"
   ]
  },
  {
   "cell_type": "code",
   "execution_count": 44,
   "metadata": {},
   "outputs": [
    {
     "data": {
      "text/plain": [
       "[0.0,\n",
       " 0.25,\n",
       " 0.5,\n",
       " 0.75,\n",
       " 1.0,\n",
       " 1.25,\n",
       " 1.5,\n",
       " 1.75,\n",
       " 2.0,\n",
       " 2.25,\n",
       " 2.5,\n",
       " 2.75,\n",
       " 3.0,\n",
       " 3.25,\n",
       " 3.5,\n",
       " 3.75,\n",
       " 4.0,\n",
       " 4.25,\n",
       " 4.5,\n",
       " 4.75,\n",
       " 5.0,\n",
       " 5.25,\n",
       " 5.5,\n",
       " 5.75,\n",
       " 6.0,\n",
       " 6.25,\n",
       " 6.5,\n",
       " 6.75,\n",
       " 7.0]"
      ]
     },
     "execution_count": 44,
     "metadata": {},
     "output_type": "execute_result"
    }
   ],
   "source": [
    "a"
   ]
  },
  {
   "cell_type": "code",
   "execution_count": 1,
   "metadata": {
    "collapsed": true
   },
   "outputs": [],
   "source": [
    "import pickle\n",
    "skus = pickle.load(open('skunames.p','rb'))"
   ]
  },
  {
   "cell_type": "code",
   "execution_count": 2,
   "metadata": {},
   "outputs": [
    {
     "data": {
      "text/plain": [
       "'PATANJALI DANT KANTI MEDICATED (PACK OF 2)'"
      ]
     },
     "execution_count": 2,
     "metadata": {},
     "output_type": "execute_result"
    }
   ],
   "source": [
    "skus['328150']"
   ]
  },
  {
   "cell_type": "code",
   "execution_count": 62,
   "metadata": {},
   "outputs": [
    {
     "ename": "ModuleNotFoundError",
     "evalue": "No module named 'tensorflow'",
     "output_type": "error",
     "traceback": [
      "\u001b[0;31m---------------------------------------------------------------------------\u001b[0m",
      "\u001b[0;31mModuleNotFoundError\u001b[0m                       Traceback (most recent call last)",
      "\u001b[0;32m<ipython-input-62-41389fad42b5>\u001b[0m in \u001b[0;36m<module>\u001b[0;34m()\u001b[0m\n\u001b[0;32m----> 1\u001b[0;31m \u001b[0;32mimport\u001b[0m \u001b[0mtensorflow\u001b[0m \u001b[0;32mas\u001b[0m \u001b[0mtf\u001b[0m\u001b[0;34m\u001b[0m\u001b[0m\n\u001b[0m",
      "\u001b[0;31mModuleNotFoundError\u001b[0m: No module named 'tensorflow'"
     ]
    }
   ],
   "source": [
    "import tensorflow as tf"
   ]
  },
  {
   "cell_type": "code",
   "execution_count": null,
   "metadata": {
    "collapsed": true
   },
   "outputs": [],
   "source": []
  }
 ],
 "metadata": {
  "kernelspec": {
   "display_name": "Python 3",
   "language": "python",
   "name": "python3"
  },
  "language_info": {
   "codemirror_mode": {
    "name": "ipython",
    "version": 3
   },
   "file_extension": ".py",
   "mimetype": "text/x-python",
   "name": "python",
   "nbconvert_exporter": "python",
   "pygments_lexer": "ipython3",
   "version": "3.6.1"
  }
 },
 "nbformat": 4,
 "nbformat_minor": 2
}
